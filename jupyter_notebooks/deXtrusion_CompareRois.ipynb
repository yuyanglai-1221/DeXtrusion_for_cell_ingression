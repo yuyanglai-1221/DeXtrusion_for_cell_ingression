{
 "cells": [
  {
   "cell_type": "markdown",
   "id": "346fb324",
   "metadata": {
    "tags": []
   },
   "source": [
    "# Compare two ROI files and return the score and the ROIs of False Positives and False Negatives detection\n",
    "\n",
    "Compare two ROI .zip files, one containing manual annotation of cell event, and the one containing the DeXtrusion detection, and print the accuracy scores. It can also generate ROI .zip file containing the False Positives and False Negatives (of DeXtrusion results compared to manual one) files to allow to check them."
   ]
  },
  {
   "cell_type": "code",
   "execution_count": 35,
   "id": "d27575a4-6175-4e5f-9401-9908e1bf4db3",
   "metadata": {},
   "outputs": [
    {
     "name": "stdout",
     "output_type": "stream",
     "text": [
      "Tensorflow with Cuda: False\n",
      "Tensorflow version: 2.15.0\n",
      "Num GPUs Available:  0\n"
     ]
    }
   ],
   "source": [
    "# default parameters\n",
    "talkative = True  ## print info messages\n",
    "import os\n",
    "from glob import glob\n",
    "import numpy as np\n",
    "imname = os.getcwd()\n",
    "# DeXNet path, to read the configuration file\n",
    "modeldir = \"./deXNets/notum_all/notum_all_original/notumAll1\"\n",
    "from dextrusion.DeXtrusion import DeXtrusion\n",
    "dexter = DeXtrusion(verbose=talkative)"
   ]
  },
  {
   "cell_type": "code",
   "execution_count": 52,
   "id": "fdafe9af-cca4-4204-9076-2ac536109a8e",
   "metadata": {},
   "outputs": [],
   "source": [
    "#### Parameters to choose\n",
    "\n",
    "dxy = 15          ## distance to ground-truth ROI to consider same\n",
    "dt = 4            ## distance in time to ground-truth ROI to consider same\n",
    "cat = 1           ## event to score (here cell_death)\n",
    "catnames = [\"\", \"_cell_death.zip\", \"_cell_sop.zip\", \"_cell_division.zip\"]\n",
    "\n",
    "## path the ROIs files are\n",
    "test_path = \"../../data/notum_retrain_mix/test/\"\n",
    "## path the results folder where DeXtrusion ROI files are\n",
    "res = test_path+\"results/\"\n",
    "\n",
    "# parameters used to create the ROIs (to keep in memory in the score datasheet)\n",
    "volume_thres = 800\n",
    "prob_thres = 180"
   ]
  },
  {
   "cell_type": "code",
   "execution_count": 53,
   "id": "1e813bb2-4f8f-4916-945b-af7045811327",
   "metadata": {},
   "outputs": [
    {
     "name": "stdout",
     "output_type": "stream",
     "text": [
      "000_029\n",
      "True positives 4\n",
      "False positives 2\n",
      "False negatives 3\n",
      "Precision 0.6666666666666666\n",
      "Recall 0.5714285714285714\n",
      "200_229\n",
      "True positives 4\n",
      "False positives 1\n",
      "False negatives 4\n",
      "Precision 0.8\n",
      "Recall 0.5\n"
     ]
    }
   ],
   "source": [
    "## parameter to consider ROIs as the same within DeXtrusion (spatial and temporal distance threshold)\n",
    "distxy=10\n",
    "dist=4\n",
    "\n",
    "### Write results to file\n",
    "resultfile = res+\"/score.csv\"\n",
    "header = 'Name;VolumeThreshold;ProbaThreshold;distanceXY;distanceT;TP;FP;FN;Precision;Recall' \n",
    "\n",
    "## Test all the files present in the result folder\n",
    "resfiles = glob(res+\"/*\"+catnames[cat], recursive = False)\n",
    "resarray = None\n",
    "\n",
    "for resfile in resfiles:\n",
    "    testname = os.path.basename(resfile)\n",
    "    ind = testname.find(catnames[cat])\n",
    "    testname = testname[0:ind]\n",
    "    print(testname)\n",
    "    paras = np.array([testname, volume_thres, prob_thres, dxy, dt])\n",
    "    outfile = res+testname+catnames[cat]\n",
    "    #dexter.get_rois_of_scaled_image( res+testname+catnames[cat]+\"_proba.tif\", volume_thres, prob_thres, distxy, dist, cat=cat, outfile=outfile)\n",
    "    \n",
    "    # compare the ROIs and print the scores\n",
    "    score = dexter.compare_rois(cat=cat, gtroisfile=test_path+testname+catnames[cat], resroisfile=outfile, distance_xy=dxy, distance_t=dt)\n",
    "    \n",
    "    # write in .zip files the false detections (put # in the beginning of the lines to not do this step)\n",
    "    dexter.write_falsepositives(cat=cat, resfile=res+testname+catnames[cat], gtfile=test_path+testname+catnames[cat], distance_xy=dxy, distance_t=dt)\n",
    "    dexter.write_falsenegatives(cat=cat, resfile=res+testname+catnames[cat], gtfile=test_path+testname+catnames[cat],distance_xy=dxy, distance_t=dt)\n",
    "    \n",
    "    array = np.atleast_2d(np.append(paras, np.array(score)))\n",
    "    if resarray is None:\n",
    "        resarray = array\n",
    "    else:\n",
    "        resarray = np.append(resarray, array, axis=0)\n",
    "\n",
    "## save the scores in a tabular file\n",
    "with open(resultfile,'w') as csvfile:\n",
    "    np.savetxt(csvfile, resarray, delimiter=';', header=header, fmt='%s', comments='')"
   ]
  },
  {
   "cell_type": "markdown",
   "id": "03abcf44",
   "metadata": {},
   "source": [
    "Mix two proba_tif"
   ]
  },
  {
   "cell_type": "code",
   "execution_count": null,
   "id": "b3365957-ffdf-4704-a7d6-87c2dae128b0",
   "metadata": {},
   "outputs": [
    {
     "name": "stdout",
     "output_type": "stream",
     "text": [
      "将融合 2 个样本\n",
      "wrote: /Users/yuyangsmacbook/project/data/notum_retrain_mix/test/results/000_029_cell_death_proba.tif\n",
      "wrote: /Users/yuyangsmacbook/project/data/notum_retrain_mix/test/results/200_229_cell_death_proba.tif\n"
     ]
    }
   ],
   "source": [
    "import os, glob\n",
    "import numpy as np\n",
    "import tifffile as tiff\n",
    "\n",
    "# ----- Config -----\n",
    "cat = 1\n",
    "catnames = [\"\", \"_cell_death.zip\", \"_cell_sop.zip\", \"_cell_division.zip\"]\n",
    "\n",
    "test_path = \"/Users/yuyangsmacbook/project/data\"\n",
    "res1      = os.path.join(test_path, \"notum0_retrain/test/results\")\n",
    "res2      = os.path.join(test_path, \"notum1_retrain/test/results\")\n",
    "res_ens   = os.path.join(test_path, \"notum_retrain_mix/test/results\")\n",
    "os.makedirs(res_ens, exist_ok=True)\n",
    "\n",
    "# Important: drop \".zip\" to match files like *_cell_death_proba.tif\n",
    "pattern = \"*\" + catnames[cat].replace(\".zip\",\"\") + \"_proba.tif\"\n",
    "\n",
    "def collect(d):\n",
    "    m = {}\n",
    "    for p in glob.glob(os.path.join(d, pattern)):\n",
    "        base = os.path.basename(p).replace(\"_proba.tif\",\"\")  # e.g. A_cell_death\n",
    "        m[base] = p\n",
    "    return m\n",
    "\n",
    "m1 = collect(res1)\n",
    "m2 = collect(res2)\n",
    "keys = sorted(set(m1) & set(m2))\n",
    "\n",
    "print(f\"Ensembling {len(keys)} samples\")\n",
    "if not keys:\n",
    "    print(\"No matching proba maps found. Check paths and naming.\")\n",
    "    print(\"res1:\", res1)\n",
    "    print(\"res2:\", res2)\n",
    "\n",
    "for base in keys:\n",
    "    p1, p2 = m1[base], m2[base]\n",
    "    im1, im2 = tiff.imread(p1), tiff.imread(p2)\n",
    "\n",
    "    if im1.shape != im2.shape:\n",
    "        print(\"Skip (shape mismatch):\", base, im1.shape, im2.shape)\n",
    "        continue\n",
    "\n",
    "    # Average in float, then cast back to original dtype\n",
    "    avg = (im1.astype(np.float32) + im2.astype(np.float32)) / 2.0\n",
    "\n",
    "    if np.issubdtype(im1.dtype, np.integer):\n",
    "        info = np.iinfo(im1.dtype)\n",
    "        avg = np.clip(avg, info.min, info.max).astype(im1.dtype)\n",
    "    else:\n",
    "        # Float case (e.g., 0..1 probability): keep float dtype\n",
    "        avg = avg.astype(im1.dtype)\n",
    "\n",
    "    outp = os.path.join(res_ens, base + \"_proba.tif\")  # e.g. A_cell_death_proba.tif\n",
    "    tiff.imwrite(outp, avg, imagej=True)\n",
    "    print(\"Wrote:\", outp)\n",
    "\n",
    "print(\"Done. Outputs in:\", res_ens)\n"
   ]
  }
 ],
 "metadata": {
  "kernelspec": {
   "display_name": "dextrusion-mac311",
   "language": "python",
   "name": "python3"
  },
  "language_info": {
   "codemirror_mode": {
    "name": "ipython",
    "version": 3
   },
   "file_extension": ".py",
   "mimetype": "text/x-python",
   "name": "python",
   "nbconvert_exporter": "python",
   "pygments_lexer": "ipython3",
   "version": "3.11.13"
  }
 },
 "nbformat": 4,
 "nbformat_minor": 5
}
