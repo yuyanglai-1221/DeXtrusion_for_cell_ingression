{
 "cells": [
  {
   "cell_type": "markdown",
   "id": "346fb324",
   "metadata": {
    "tags": []
   },
   "source": [
    "# Compare two ROI files and return the score and the ROIs of False Positives and False Negatives detection\n",
    "\n",
    "Compare two ROI .zip files, one containing manual annotation of cell event, and the one containing the DeXtrusion detection, and print the accuracy scores. It can also generate ROI .zip file containing the False Positives and False Negatives (of DeXtrusion results compared to manual one) files to allow to check them."
   ]
  },
  {
   "cell_type": "code",
   "execution_count": null,
   "id": "d27575a4-6175-4e5f-9401-9908e1bf4db3",
   "metadata": {},
   "outputs": [
    {
     "name": "stdout",
     "output_type": "stream",
     "text": [
      "Tensorflow with Cuda: False\n",
      "Tensorflow version: 2.15.0\n",
      "Num GPUs Available:  0\n"
     ]
    }
   ],
   "source": [
    "# default parameters\n",
    "talkative = True  ## print info messages\n",
    "import os\n",
    "from glob import glob\n",
    "import numpy as np\n",
    "imname = os.getcwd()\n",
    "# DeXNet path, to read the configuration file\n",
    "modeldir = \"./deXNets/notum_all/notum_all_original/notumAll0_retrained0907\"\n",
    "from dextrusion.DeXtrusion import DeXtrusion\n",
    "dexter = DeXtrusion(verbose=talkative)"
   ]
  },
  {
   "cell_type": "code",
   "execution_count": 12,
   "id": "fdafe9af-cca4-4204-9076-2ac536109a8e",
   "metadata": {},
   "outputs": [],
   "source": [
    "#### Parameters to choose\n",
    "\n",
    "dxy = 15          ## distance to ground-truth ROI to consider same\n",
    "dt = 4            ## distance in time to ground-truth ROI to consider same\n",
    "cat = 1           ## event to score (here cell_death)\n",
    "catnames = [\"\", \"_cell_death.zip\", \"_cell_sop.zip\", \"_cell_division.zip\"]\n",
    "\n",
    "## path the ROIs files are\n",
    "#test_path = \"../../data/notum_retrain_mix/test/\"\n",
    "test_path = \"/Users/yuyangsmacbook/Desktop/\"\n",
    "## path the results folder where DeXtrusion ROI files are\n",
    "res = test_path+\"results/\"\n",
    "\n",
    "# parameters used to create the ROIs (to keep in memory in the score datasheet)\n",
    "volume_thres = 800\n",
    "prob_thres = 180"
   ]
  },
  {
   "cell_type": "code",
   "execution_count": null,
   "id": "1e813bb2-4f8f-4916-945b-af7045811327",
   "metadata": {},
   "outputs": [
    {
     "ename": "ValueError",
     "evalue": "Expected 1D or 2D array, got 0D array instead",
     "output_type": "error",
     "traceback": [
      "\u001b[31m---------------------------------------------------------------------------\u001b[39m",
      "\u001b[31mValueError\u001b[39m                                Traceback (most recent call last)",
      "\u001b[36mCell\u001b[39m\u001b[36m \u001b[39m\u001b[32mIn[19]\u001b[39m\u001b[32m, line 37\u001b[39m\n\u001b[32m     35\u001b[39m \u001b[38;5;66;03m## save the scores in a tabular file\u001b[39;00m\n\u001b[32m     36\u001b[39m \u001b[38;5;28;01mwith\u001b[39;00m \u001b[38;5;28mopen\u001b[39m(resultfile,\u001b[33m'\u001b[39m\u001b[33mw\u001b[39m\u001b[33m'\u001b[39m) \u001b[38;5;28;01mas\u001b[39;00m csvfile:\n\u001b[32m---> \u001b[39m\u001b[32m37\u001b[39m     \u001b[43mnp\u001b[49m\u001b[43m.\u001b[49m\u001b[43msavetxt\u001b[49m\u001b[43m(\u001b[49m\u001b[43mcsvfile\u001b[49m\u001b[43m,\u001b[49m\u001b[43m \u001b[49m\u001b[43mresarray\u001b[49m\u001b[43m,\u001b[49m\u001b[43m \u001b[49m\u001b[43mdelimiter\u001b[49m\u001b[43m=\u001b[49m\u001b[33;43m'\u001b[39;49m\u001b[33;43m;\u001b[39;49m\u001b[33;43m'\u001b[39;49m\u001b[43m,\u001b[49m\u001b[43m \u001b[49m\u001b[43mheader\u001b[49m\u001b[43m=\u001b[49m\u001b[43mheader\u001b[49m\u001b[43m,\u001b[49m\u001b[43m \u001b[49m\u001b[43mfmt\u001b[49m\u001b[43m=\u001b[49m\u001b[33;43m'\u001b[39;49m\u001b[38;5;132;43;01m%s\u001b[39;49;00m\u001b[33;43m'\u001b[39;49m\u001b[43m,\u001b[49m\u001b[43m \u001b[49m\u001b[43mcomments\u001b[49m\u001b[43m=\u001b[49m\u001b[33;43m'\u001b[39;49m\u001b[33;43m'\u001b[39;49m\u001b[43m)\u001b[49m\n",
      "\u001b[36mFile \u001b[39m\u001b[32m~/miniforge3/envs/dextrusion-mac311/lib/python3.11/site-packages/numpy/lib/npyio.py:1570\u001b[39m, in \u001b[36msavetxt\u001b[39m\u001b[34m(fname, X, fmt, delimiter, newline, header, footer, comments, encoding)\u001b[39m\n\u001b[32m   1568\u001b[39m \u001b[38;5;66;03m# Handle 1-dimensional arrays\u001b[39;00m\n\u001b[32m   1569\u001b[39m \u001b[38;5;28;01mif\u001b[39;00m X.ndim == \u001b[32m0\u001b[39m \u001b[38;5;129;01mor\u001b[39;00m X.ndim > \u001b[32m2\u001b[39m:\n\u001b[32m-> \u001b[39m\u001b[32m1570\u001b[39m     \u001b[38;5;28;01mraise\u001b[39;00m \u001b[38;5;167;01mValueError\u001b[39;00m(\n\u001b[32m   1571\u001b[39m         \u001b[33m\"\u001b[39m\u001b[33mExpected 1D or 2D array, got \u001b[39m\u001b[38;5;132;01m%d\u001b[39;00m\u001b[33mD array instead\u001b[39m\u001b[33m\"\u001b[39m % X.ndim)\n\u001b[32m   1572\u001b[39m \u001b[38;5;28;01melif\u001b[39;00m X.ndim == \u001b[32m1\u001b[39m:\n\u001b[32m   1573\u001b[39m     \u001b[38;5;66;03m# Common case -- 1d array of numbers\u001b[39;00m\n\u001b[32m   1574\u001b[39m     \u001b[38;5;28;01mif\u001b[39;00m X.dtype.names \u001b[38;5;129;01mis\u001b[39;00m \u001b[38;5;28;01mNone\u001b[39;00m:\n",
      "\u001b[31mValueError\u001b[39m: Expected 1D or 2D array, got 0D array instead"
     ]
    }
   ],
   "source": [
    "## parameter to consider ROIs as the same within DeXtrusion (spatial and temporal distance threshold)\n",
    "distxy=10\n",
    "dist=4\n",
    "\n",
    "### Write results to file\n",
    "resultfile = res+\"/score.csv\"\n",
    "header = 'Name;VolumeThreshold;ProbaThreshold;distanceXY;distanceT;TP;FP;FN;Precision;Recall' \n",
    "\n",
    "## Test all the files present in the result folder\n",
    "resfiles = glob(res+\"/*\"+catnames[cat], recursive = False)\n",
    "resarray = None\n",
    "\n",
    "for resfile in resfiles:\n",
    "    testname = os.path.basename(resfile)\n",
    "    ind = testname.find(catnames[cat])\n",
    "    testname = testname[0:ind]\n",
    "    print(testname)\n",
    "    paras = np.array([testname, volume_thres, prob_thres, dxy, dt])\n",
    "    outfile = res+testname+catnames[cat]\n",
    "    #dexter.get_rois_of_scaled_image( res+testname+catnames[cat]+\"_proba.tif\", volume_thres, prob_thres, distxy, dist, cat=cat, outfile=outfile)\n",
    "    \n",
    "    # compare the ROIs and print the scores\n",
    "    score = dexter.compare_rois(cat=cat, gtroisfile=test_path+testname+catnames[cat], resroisfile=outfile, distance_xy=dxy, distance_t=dt)\n",
    "    \n",
    "    # write in .zip files the false detections (put # in the beginning of the lines to not do this step)\n",
    "    dexter.write_falsepositives(cat=cat, resfile=res+testname+catnames[cat], gtfile=test_path+testname+catnames[cat], distance_xy=dxy, distance_t=dt)\n",
    "    dexter.write_falsenegatives(cat=cat, resfile=res+testname+catnames[cat], gtfile=test_path+testname+catnames[cat],distance_xy=dxy, distance_t=dt)\n",
    "    \n",
    "    array = np.atleast_2d(np.append(paras, np.array(score)))\n",
    "    if resarray is None:\n",
    "        resarray = array\n",
    "    else:\n",
    "        resarray = np.append(resarray, array, axis=0)\n",
    "\n",
    "## save the scores in a tabular file\n",
    "with open(resultfile,'w') as csvfile:\n",
    "    np.savetxt(csvfile, resarray, delimiter=';', header=header, fmt='%s', comments='')"
   ]
  },
  {
   "cell_type": "markdown",
   "id": "03abcf44",
   "metadata": {},
   "source": [
    "Mix two proba_tif"
   ]
  },
  {
   "cell_type": "code",
   "execution_count": 4,
   "id": "b3365957-ffdf-4704-a7d6-87c2dae128b0",
   "metadata": {},
   "outputs": [
    {
     "name": "stdout",
     "output_type": "stream",
     "text": [
      "[cat=1 _cell_death.zip] candidates: 1, to fuse: 1\n",
      "  Wrote: /Users/yuyangsmacbook/Desktop/results/img_0001_0050_center_2048x1024_cell_death_proba.tif\n",
      "[cat=2 _cell_sop.zip] candidates: 1, to fuse: 1\n",
      "  Wrote: /Users/yuyangsmacbook/Desktop/results/img_0001_0050_center_2048x1024_cell_sop_proba.tif\n",
      "[cat=3 _cell_division.zip] candidates: 1, to fuse: 1\n",
      "  Wrote: /Users/yuyangsmacbook/Desktop/results/img_0001_0050_center_2048x1024_cell_division_proba.tif\n",
      "Done. total fused: 3\n",
      "Outputs in: /Users/yuyangsmacbook/Desktop/results\n"
     ]
    }
   ],
   "source": [
    "import os, glob\n",
    "import numpy as np\n",
    "import tifffile as tiff\n",
    "\n",
    "# ====== 配置 ======\n",
    "# 事件类别：按需选择 1..(len(catnames)-1)，比如 [1] 只融合 cell_death\n",
    "CATS = [1,2,3]   # 1: _cell_death, 2: _cell_sop, 3: _cell_division\n",
    "\n",
    "catnames = [\"\", \"_cell_death.zip\", \"_cell_sop.zip\", \"_cell_division.zip\"]\n",
    "\n",
    "# 多个来源结果目录（目录内应该有 *_<cat>_proba.tif）\n",
    "RES_DIRS = [\n",
    "    \"/Users/yuyangsmacbook/Desktop/results/retrain466_n2\",\n",
    "    \"/Users/yuyangsmacbook/Desktop/results/retrain466_nn2\"\n",
    "    #\"/Users/yuyangsmacbook/Desktop/results/retrain466_4\",\n",
    "    #\"/Users/yuyangsmacbook/Desktop/results/retrain466_5\"\n",
    "]\n",
    "# 融合输出目录\n",
    "OUT_DIR = \"/Users/yuyangsmacbook/Desktop/results\"\n",
    "os.makedirs(OUT_DIR, exist_ok=True)\n",
    "\n",
    "# 融合策略：'mean' | 'max' | 'weighted'\n",
    "ENSEMBLE_MODE = 'mean'\n",
    "# 若使用加权平均，请给出与 RES_DIRS 等长的权重\n",
    "WEIGHTS = None  # 例如 [0.4, 0.6]；或保持 None\n",
    "\n",
    "# 要求至少多少个来源同时存在该样本才融合（缺失时跳过）\n",
    "MIN_K = len(RES_DIRS)  # 设为 len(RES_DIRS) 表示所有来源都要有\n",
    "\n",
    "# ====== 工具函数 ======\n",
    "def pattern_for_cat(cat):\n",
    "    return \"*\" + catnames[cat].replace(\".zip\",\"\") + \"_proba.tif\"\n",
    "\n",
    "def collect_single_dir(res_dir, pattern):\n",
    "    m = {}\n",
    "    for p in glob.glob(os.path.join(res_dir, pattern)):\n",
    "        base = os.path.basename(p).replace(\"_proba.tif\",\"\")  # e.g. A_cell_death\n",
    "        m[base] = p\n",
    "    return m\n",
    "\n",
    "def cast_back(avg, ref_dtype):\n",
    "    if np.issubdtype(ref_dtype, np.integer):\n",
    "        info = np.iinfo(ref_dtype)\n",
    "        avg = np.clip(avg, info.min, info.max).astype(ref_dtype)\n",
    "    else:\n",
    "        avg = avg.astype(ref_dtype)\n",
    "    return avg\n",
    "\n",
    "# ====== 主流程 ======\n",
    "total_written = 0\n",
    "for cat in CATS:\n",
    "    pat = pattern_for_cat(cat)\n",
    "    # 收集每个目录的 {base -> path}\n",
    "    maps_per_dir = [collect_single_dir(d, pat) for d in RES_DIRS]\n",
    "    # 交集或“至少出现 MIN_K 个来源”的键集合\n",
    "    all_keys = set().union(*[set(m.keys()) for m in maps_per_dir])\n",
    "    keys = [k for k in all_keys if sum(k in m for m in maps_per_dir) >= MIN_K]\n",
    "    keys.sort()\n",
    "\n",
    "    print(f\"[cat={cat} {catnames[cat]}] candidates: {len(all_keys)}, to fuse: {len(keys)}\")\n",
    "\n",
    "    for base in keys:\n",
    "        paths = [m[base] for m in maps_per_dir if base in m]\n",
    "\n",
    "        # 读入所有存在的图\n",
    "        ims = []\n",
    "        for p in paths:\n",
    "            im = tiff.imread(p)\n",
    "            ims.append(im)\n",
    "\n",
    "        # 尺寸校验（必须一致）\n",
    "        shapes = {im.shape for im in ims}\n",
    "        if len(shapes) != 1:\n",
    "            print(\"  Skip (shape mismatch):\", base, shapes)\n",
    "            continue\n",
    "\n",
    "        ref_dtype = ims[0].dtype\n",
    "        stack = np.stack([im.astype(np.float32) for im in ims], axis=0)\n",
    "\n",
    "        # 融合\n",
    "        if ENSEMBLE_MODE == 'max':\n",
    "            fused = np.max(stack, axis=0)\n",
    "        elif ENSEMBLE_MODE == 'weighted':\n",
    "            if WEIGHTS is None or len(WEIGHTS) != len(ims):\n",
    "                print(\"  Skip (bad WEIGHTS):\", base)\n",
    "                continue\n",
    "            w = np.asarray(WEIGHTS, dtype=np.float32)\n",
    "            w = w / np.sum(w)\n",
    "            fused = np.tensordot(w, stack, axes=(0,0))  # 加权和\n",
    "        else:  # 'mean'\n",
    "            fused = np.mean(stack, axis=0)\n",
    "\n",
    "        fused = cast_back(fused, ref_dtype)\n",
    "\n",
    "        # 写出：保持命名 <base>_proba.tif\n",
    "        outp = os.path.join(OUT_DIR, base + \"_proba.tif\")\n",
    "        tiff.imwrite(outp, fused, imagej=True)\n",
    "        total_written += 1\n",
    "        print(\"  Wrote:\", outp)\n",
    "\n",
    "print(\"Done. total fused:\", total_written)\n",
    "print(\"Outputs in:\", OUT_DIR)\n"
   ]
  }
 ],
 "metadata": {
  "kernelspec": {
   "display_name": "dextrusion-mac311",
   "language": "python",
   "name": "python3"
  },
  "language_info": {
   "codemirror_mode": {
    "name": "ipython",
    "version": 3
   },
   "file_extension": ".py",
   "mimetype": "text/x-python",
   "name": "python",
   "nbconvert_exporter": "python",
   "pygments_lexer": "ipython3",
   "version": "3.11.13"
  }
 },
 "nbformat": 4,
 "nbformat_minor": 5
}
