{
 "cells": [
  {
   "cell_type": "markdown",
   "id": "346fb324",
   "metadata": {
    "tags": []
   },
   "source": [
    "# Detect extrusions (or another event) on a movie"
   ]
  },
  {
   "cell_type": "markdown",
   "id": "26827a4f-8bd5-4c9e-879f-83ad6004b8d1",
   "metadata": {
    "tags": []
   },
   "source": [
    "Used already trained neural network(s) to detect extrusions or other events from movie(s).\n",
    "\n",
    "DeXtrusion calculates a probability map which reflects the probability of having an extrusion (or other event) for each pixel at each time of the movie. The probability map can be converted to single point position as ImageJ ROI. The position of an event will be at the centroid of a high probability volume."
   ]
  },
  {
   "cell_type": "markdown",
   "id": "99b9b7df-36b8-4c6e-80f7-9ffdfffca6e2",
   "metadata": {},
   "source": [
    "## Initialization"
   ]
  },
  {
   "cell_type": "code",
   "execution_count": null,
   "id": "ec9bd6ed-da37-4d79-85b5-a5ccbc6b39d8",
   "metadata": {},
   "outputs": [],
   "source": [
    "import os\n",
    "from dextrusion.DeXtrusion import DeXtrusion\n",
    "from dextrusion.DialogDeXtrusion import DialogDeXtrusion\n",
    "\n",
    "# default parameters\n",
    "talkative = True  ## print info messages\n",
    "dexter = DeXtrusion(verbose=talkative)\n",
    "\n",
    "imname = \"../data/notum_mix\"    ## folder where data are saved to initialize the file browser\n",
    "modeldir = os.path.join(os.path.abspath(os.path.join(os.getcwd(), os.pardir)), \"DeXNets\", \"notum_all\")  ## folder where models are saved to initialize the file browser\n",
    "groupsize = 150000       ## number of windows that are runned through the neural network at the same time - depends on the computer processing capabilities\n",
    "                         ## higher will run faster, but too high can fail"
   ]
  },
  {
   "cell_type": "markdown",
   "id": "36a31bfb-3741-4fa4-87df-00b0f6bdc4ff",
   "metadata": {},
   "source": [
    "### Graphical interface pop-up to choose the detection parameters"
   ]
  },
  {
   "cell_type": "code",
   "execution_count": null,
   "id": "4aeaa1b4-acbe-4320-8539-74ea8a8a0eec",
   "metadata": {},
   "outputs": [],
   "source": [
    "# Choose parameters through graphical interface\n",
    "diag = DialogDeXtrusion()\n",
    "diag.dialog_main(modeldir, imname)\n",
    "\n",
    "## typical cell diameter in the movie. Used to resize the movie if necessary to match with the reference scale used in the training.\n",
    "cell_diameter = float(diag.cell_diameter)          \n",
    "## typical duration of an extrusion event (number of frames it is visible). Used to resize the movie to the reference scale if necessary\n",
    "extrusion_duration = float(diag.extrusion_duration) \n",
    "## xy step used to move the sliding windows\n",
    "shift_xy = int(diag.dxyval)\n",
    "## frame interval used to move the sliding windows\n",
    "shift_t = int(diag.dtval)\n",
    "## save the resulting probability maps (of all events)\n",
    "save_proba = bool(diag.saveProba)\n",
    "## save the cleaned (thresholded) probability map of the selected event\n",
    "save_proba_one = bool(diag.saveProbaOne)\n",
    "## save the ROIs file of all the events\n",
    "save_rois = bool(diag.saveRois)\n",
    "## Choose which event to save the probamap of. (Put None to do all events)\n",
    "cat = int(diag.event_ind)\n",
    "## Names of the possible events\n",
    "catnames = diag.event\n",
    "## min average probability in volume to keep ROI\n",
    "roi_threshold = float(diag.threshold) \n",
    "## min positive volume to keep ROI\n",
    "roi_volume = float(diag.proba_vol) \n",
    "## computational parameters, number of windows to evaluate at the time\n",
    "groupsize = int(diag.group_size)       \n",
    "\n",
    "modeldir = diag.modeldir\n",
    "from glob import glob\n",
    "# if folder \"modeldir\" is not one model directory but contains several models subdirectory, use them all\n",
    "if not os.path.exists( os.path.join(modeldir,\"config.cfg\") ):\n",
    "    model = glob(modeldir+\"/*/\", recursive = False)\n",
    "else:\n",
    "    model = [modeldir]\n",
    "imname = diag.imagepath\n",
    "if talkative:\n",
    "    print(\"Using network(s) \"+str(model))\n",
    "    print(\"On movie(s) \"+str(imname))"
   ]
  },
  {
   "cell_type": "markdown",
   "id": "c262937a-33f8-48dd-976b-ca9d0eedc55a",
   "metadata": {},
   "source": [
    "### Run the dextrusion detection on the selected movie(s) with the selected trained network(s)"
   ]
  },
  {
   "cell_type": "code",
   "execution_count": null,
   "id": "a18111e0-5ee4-4574-939c-c4197a9ab1d8",
   "metadata": {},
   "outputs": [],
   "source": [
    "## Merge \"peaks\" if distance < disxy (spatial) & dist (time) \n",
    "disxy = 10\n",
    "distime = 4\n",
    "# Parameters: astime: save tif image as temporal stack (else slice stack)\n",
    "temporal = True\n",
    "\n",
    "for image in imname:\n",
    "    print(image)\n",
    "    if os.path.exists(image):\n",
    "        if talkative:\n",
    "            print( \"Detecting events on movie \"+str(image) )\n",
    "        \n",
    "        ## Detect events\n",
    "        dexter.detect_events_onmovie( image, models=model, \n",
    "                                     cell_diameter=cell_diameter, extrusion_duration=extrusion_duration, \n",
    "                                     dxy=shift_xy, dz=shift_t, \n",
    "                                     group_size=groupsize )\n",
    "          \n",
    "        ## Save probability maps to file, to visualize the results\n",
    "        if save_proba:\n",
    "            dexter.write_probamaps(cat=None, astime=temporal)\n",
    "        \n",
    "        ## Save cleaned probability map(s) to file, keeping only events above the size and probability thresholds (for visualisation) \n",
    "        if save_proba_one:\n",
    "            dexter.write_cleanedprobamap( cat=cat, volume_threshold=roi_volume, proba_threshold=roi_threshold, \n",
    "                                         disxy=disxy, distime=distime, astime=temporal )\n",
    "        \n",
    "        ## Look for centroid of \"positive\" volumes in the probability maps and convert it to a point event \n",
    "        ## Keep only ROIs that have a big enough volume ('volume_threshold') and with high enough probability ('proba_threshold') \n",
    "        # - put 0 and 0 to keep all detections\n",
    "        if save_rois:\n",
    "            dexter.get_rois(cat=cat, volume_threshold=roi_volume, proba_threshold=roi_threshold, disxy=disxy, dist=distime)"
   ]
  },
  {
   "cell_type": "code",
   "execution_count": null,
   "id": "41a6226c-a6e8-4b49-a8ce-00dbccf5ec32",
   "metadata": {},
   "outputs": [],
   "source": []
  }
 ],
 "metadata": {
  "kernelspec": {
   "display_name": "detextrusion-env",
   "language": "python",
   "name": "detextrusion-env"
  },
  "language_info": {
   "codemirror_mode": {
    "name": "ipython",
    "version": 3
   },
   "file_extension": ".py",
   "mimetype": "text/x-python",
   "name": "python",
   "nbconvert_exporter": "python",
   "pygments_lexer": "ipython3",
   "version": "3.8.10"
  }
 },
 "nbformat": 4,
 "nbformat_minor": 5
}
