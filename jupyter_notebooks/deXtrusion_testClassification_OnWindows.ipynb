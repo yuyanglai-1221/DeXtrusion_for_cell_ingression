{
 "cells": [
  {
   "cell_type": "markdown",
   "id": "bbf7b2f6-db36-4514-9be4-a9da1d0bbad3",
   "metadata": {
    "tags": []
   },
   "source": [
    "# Classification performance of a network on the test windows"
   ]
  },
  {
   "cell_type": "markdown",
   "id": "5ebb8232-a31e-4378-a527-ff5913a1ae3c",
   "metadata": {
    "tags": []
   },
   "source": [
    "From .tif files associated with ImageJ ROI \".zip\" files, generate test dataset composed of small windows containing 1 or no event\n",
    "\n",
    "Run the trained neural network on it and measure performance of windows classification.\n",
    "\n",
    "The Fiji ROIs \".zip\" files must be in the same folder as the movie, with the same name, adding \"_eventname.zip\" at the end of the file name (with eventname to be replaced by the names of each events used in the training; by default \"cell_death, cell_sop, cell_division). "
   ]
  },
  {
   "cell_type": "code",
   "execution_count": null,
   "id": "85f5bbd1-71c0-41b2-8c12-11d5df584032",
   "metadata": {},
   "outputs": [],
   "source": [
    "## initialization, imports\n",
    "from dextrusion.DeXtrusion import DeXtrusion\n",
    "from dextrusion import MovieGeneratorFromROI as gen\n",
    "talkative = True   ## print info messages\n",
    "\n",
    "model = '../DeXNets/notum_ExtSOPDiv/notumExtSOPDiv0/'   ## path to network to test for classification\n",
    "test_path = \"../../data/notum_EGFR/test/\"                  ## path to test dataset"
   ]
  },
  {
   "cell_type": "code",
   "execution_count": null,
   "id": "81273bab-72ff-4d9c-a831-0a27ce4e4c67",
   "metadata": {},
   "outputs": [],
   "source": [
    "dexter = DeXtrusion(verbose=talkative)\n",
    "dexter.load_model(model)\n",
    "\n",
    "test = gen.MovieGeneratorFromROI(\n",
    "                 data_path = test_path,\n",
    "                 batch_size = dexter.batch_size,\n",
    "                 frame_shape = dexter.nframes,\n",
    "                 win_halfsize = dexter.half_size,\n",
    "                 val_ratio=0,\n",
    "                 balance=False,\n",
    "                 ncat= dexter.ncat,\n",
    "                 cat_names = dexter.catnames,\n",
    "                 naug=1,\n",
    "                 augment_withnoise=False,\n",
    "                 add_nothing_windows = 0,\n",
    "                 verbose = talkative )\n",
    "\n",
    "dexter.evaluate_model_prediction(test)"
   ]
  }
 ],
 "metadata": {
  "kernelspec": {
   "display_name": "detextrusion-env",
   "language": "python",
   "name": "detextrusion-env"
  },
  "language_info": {
   "codemirror_mode": {
    "name": "ipython",
    "version": 3
   },
   "file_extension": ".py",
   "mimetype": "text/x-python",
   "name": "python",
   "nbconvert_exporter": "python",
   "pygments_lexer": "ipython3",
   "version": "3.8.10"
  }
 },
 "nbformat": 4,
 "nbformat_minor": 5
}
