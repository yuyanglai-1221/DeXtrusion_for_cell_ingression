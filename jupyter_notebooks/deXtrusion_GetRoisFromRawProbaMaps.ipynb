{
 "cells": [
  {
   "cell_type": "markdown",
   "id": "330f8dcb-14a3-4ed4-874f-4d482ab1733f",
   "metadata": {},
   "source": [
    "# Get ROIs from raw probability maps"
   ]
  },
  {
   "cell_type": "markdown",
   "id": "06701d41-4311-428c-9fa4-69b6e2a99864",
   "metadata": {},
   "source": [
    "Read the raw probability maps saved by DeXtrusion and calculate and save the ROIs positions from it.\n",
    "The raw probability maps should have been saved in the `results` folder and called `FileName_eventname_rawproba.tif` if the `saved_raw_proba` option was selected when running DeXtrusion.\n",
    "\n",
    "If the raw probability were not saved but the probability maps were saved, it is still possible to use these maps to get the ROIs, by renaming them \"*_rawproba.tif\" instead of \"*_proba.tif\".\n",
    "However, the size of the probability maps should be the rescaled image shape to fit with the correct volume threshold.\n",
    "If there was some rescaling of the image in the detection, either resize your probamap to the shape that had been printed during DeXtrusion run, or adjust the volume threshold."
   ]
  },
  {
   "cell_type": "code",
   "execution_count": 17,
   "id": "79bfcc57-9385-48eb-aa1d-8161350c5403",
   "metadata": {},
   "outputs": [
    {
     "name": "stdout",
     "output_type": "stream",
     "text": [
      "Tensorflow with Cuda: False\n",
      "Tensorflow version: 2.15.0\n",
      "Num GPUs Available:  0\n"
     ]
    }
   ],
   "source": [
    "talkative = True  ## print info messages\n",
    "import os\n",
    "from glob import glob\n",
    "import numpy as np\n",
    "from dextrusion.DeXtrusion import DeXtrusion\n",
    "dexter = DeXtrusion(verbose=talkative)"
   ]
  },
  {
   "cell_type": "code",
   "execution_count": 15,
   "id": "b33f4d55-e3e6-4112-83dc-52765133ecf0",
   "metadata": {},
   "outputs": [],
   "source": [
    "catnames = [\"\", \"_cell_death.zip\", \"_cell_sop.zip\", \"_cell_division.zip\"]   # name of events the network was trained with\n",
    "dexter.catnames = catnames\n",
    "\n",
    "test_path = \"/Users/yuyangsmacbook/project/data/notum_retrain_mix/test\"     # path of the images to get ROIs from\n",
    "res = test_path+\"results/\"         # output folder where the probamaps have been saved\n",
    "\n",
    "cat = 1                            # type of event to analyse\n",
    "\n",
    "volume_thres = 800                 # threshold of event volume to keep it (to decrease false positives)\n",
    "prob_thres = 180                   # threshold of probability of the volume to keep it (decrease false positives)\n",
    "\n",
    "resfiles = glob(test_path+\"*.tif\", recursive = False)\n",
    "for resfile in resfiles:\n",
    "    testname = os.path.basename(resfile)\n",
    "    ind = testname.find(\".tif\")\n",
    "    testname = testname[0:ind]\n",
    "    print(testname)\n",
    "    outfile = res+testname+catnames[cat]\n",
    "    dexter.get_rois_fromrawproba_path( imagepath=test_path+testname+\".tif\", cat=cat, \n",
    "                                  volume_threshold=volume_thres, proba_threshold=prob_thres, disxy=10, dist=4, outfile=outfile )"
   ]
  },
  {
   "cell_type": "markdown",
   "id": "bbf4a622",
   "metadata": {},
   "source": [
    "The following part used to derive the Fiji ROI through probability maps."
   ]
  },
  {
   "cell_type": "code",
   "execution_count": 1,
   "id": "c6968331-db2c-4d8a-be5f-155d14d54dd2",
   "metadata": {},
   "outputs": [
    {
     "name": "stdout",
     "output_type": "stream",
     "text": [
      "⇒ Copied as: 200_229_cell_death_rawproba.tif\n",
      "⇒ Copied as: 000_029_cell_death_rawproba.tif\n",
      "Usable proba maps: 2\n",
      "Tensorflow with Cuda: False\n",
      "Tensorflow version: 2.15.0\n",
      "Num GPUs Available:  0\n",
      "Writing 5 Rois in file /Users/yuyangsmacbook/project/data/notum_retrain_mix/test/results/200_229_cell_death.zip\n",
      "✅ ROI written: 200_229_cell_death.zip\n",
      "Writing 6 Rois in file /Users/yuyangsmacbook/project/data/notum_retrain_mix/test/results/000_029_cell_death.zip\n",
      "✅ ROI written: 000_029_cell_death.zip\n",
      "[Done] 2 ROI zip(s) written to /Users/yuyangsmacbook/project/data/notum_retrain_mix/test/results\n"
     ]
    }
   ],
   "source": [
    "import os, glob, shutil, numpy as np\n",
    "import tifffile as tiff\n",
    "from dextrusion.DeXtrusion import DeXtrusion\n",
    "\n",
    "# -----------------\n",
    "# Paths\n",
    "# -----------------\n",
    "test_path = \"/Users/yuyangsmacbook/project/data/notum_retrain_mix/test\"         # Only used for basename style (GT not required here)\n",
    "res       = \"/Users/yuyangsmacbook/project/data/notum_retrain_mix/test/results\" # Folder containing proba maps & where ROI zips will be written\n",
    "os.makedirs(res, exist_ok=True)\n",
    "\n",
    "# -----------------\n",
    "# Category\n",
    "# -----------------\n",
    "cat = 1\n",
    "catnames = [\"\", \"_cell_death.zip\", \"_cell_sop.zip\", \"_cell_division.zip\"]\n",
    "suf_zip   = catnames[cat]                  # \"_cell_death.zip\"\n",
    "suf_nozip = suf_zip.replace(\".zip\",\"\")     # \"_cell_death\"\n",
    "\n",
    "# -----------------\n",
    "# Thresholds\n",
    "# -----------------\n",
    "volume_thres      = 800\n",
    "prob_thres_uint   = 180    # for 8/16-bit integer proba maps (0..255/65535)\n",
    "prob_thres_float  = 0.5    # for float proba maps in [0,1]\n",
    "distxy_merge, distt_merge = 10, 4\n",
    "\n",
    "# -----------------\n",
    "# (1) Normalize filenames to *_rawproba.tif as expected by the library\n",
    "#     Accept both \"*_cell_death_proba.tif\" and \"*_cell_death.zip_proba.tif\"\n",
    "# -----------------\n",
    "pat_zip   = \"*\" + suf_zip   + \"_proba.tif\"    # *_cell_death.zip_proba.tif\n",
    "pat_nozip = \"*\" + suf_nozip + \"_proba.tif\"    # *_cell_death_proba.tif\n",
    "probas = glob.glob(os.path.join(res, pat_nozip)) or glob.glob(os.path.join(res, pat_zip))\n",
    "\n",
    "to_use = []\n",
    "for p in probas:\n",
    "    name = os.path.basename(p).replace(\"_proba.tif\",\"\")   # e.g. 000_029_cell_death[.zip]\n",
    "    stem = name.replace(\".zip\",\"\")                        # e.g. 000_029_cell_death\n",
    "    if not stem.endswith(suf_nozip):\n",
    "        print(\"Skip (suffix mismatch):\", p)\n",
    "        continue\n",
    "    base = stem[:-len(suf_nozip)]                         # e.g. 000_029\n",
    "    rawp = os.path.join(res, base + suf_nozip + \"_rawproba.tif\")\n",
    "    if os.path.abspath(p) != os.path.abspath(rawp):\n",
    "        shutil.copy2(p, rawp)   # copy to the filename expected by the library\n",
    "        print(\"⇒ Copied as:\", os.path.basename(rawp))\n",
    "    to_use.append((base, rawp))\n",
    "\n",
    "print(f\"Usable proba maps: {len(to_use)}\")\n",
    "\n",
    "# -----------------\n",
    "# (2) Call DeXtrusion: it looks for *_rawproba.tif under outpath and writes ROI zips\n",
    "# -----------------\n",
    "dexter = DeXtrusion(verbose=True)\n",
    "dexter.catnames = catnames\n",
    "dexter.outpath  = res   # IMPORTANT: get_rois_fromrawproba_path will look under outpath for *_rawproba.tif\n",
    "\n",
    "def proba_to_roi_from_base(base):\n",
    "    # choose threshold scale according to dtype\n",
    "    rawp = os.path.join(res, base + suf_nozip + \"_rawproba.tif\")\n",
    "    img = tiff.imread(rawp)\n",
    "    pthr = float(prob_thres_float) if np.issubdtype(img.dtype, np.floating) else int(prob_thres_uint)\n",
    "\n",
    "    # imagepath is only used to provide the basename; the file itself is not read\n",
    "    fake_imagepath = os.path.join(test_path, base + \".tif\")\n",
    "    outzip = os.path.join(res, base + suf_zip)\n",
    "\n",
    "    dexter.get_rois_fromrawproba_path(\n",
    "        imagepath=fake_imagepath,     # only the basename \"base\" is used\n",
    "        cat=cat,\n",
    "        volume_threshold=volume_thres,\n",
    "        proba_threshold=pthr,\n",
    "        disxy=distxy_merge,\n",
    "        dist=distt_merge,\n",
    "        outfile=outzip\n",
    "    )\n",
    "    return outzip\n",
    "\n",
    "wrote = 0\n",
    "for base, rawp in to_use:\n",
    "    try:\n",
    "        outzip = proba_to_roi_from_base(base)\n",
    "        wrote += 1\n",
    "        print(\"✅ ROI written:\", os.path.basename(outzip))\n",
    "    except Exception as e:\n",
    "        print(\"❌ Failed:\", base, \"→\", e)\n",
    "\n",
    "print(f\"[Done] {wrote} ROI zip(s) written to {res}\")\n"
   ]
  }
 ],
 "metadata": {
  "kernelspec": {
   "display_name": "dextrusion-mac311",
   "language": "python",
   "name": "python3"
  },
  "language_info": {
   "codemirror_mode": {
    "name": "ipython",
    "version": 3
   },
   "file_extension": ".py",
   "mimetype": "text/x-python",
   "name": "python",
   "nbconvert_exporter": "python",
   "pygments_lexer": "ipython3",
   "version": "3.11.13"
  }
 },
 "nbformat": 4,
 "nbformat_minor": 5
}
